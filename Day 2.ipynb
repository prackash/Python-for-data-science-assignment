{
 "cells": [
  {
   "cell_type": "code",
   "execution_count": 1,
   "id": "7e760b75",
   "metadata": {},
   "outputs": [
    {
     "name": "stdout",
     "output_type": "stream",
     "text": [
      "Enter the list items separated by space 1 2 3 4 5 6\n",
      "User list:  [1, 2, 3, 4, 5, 6]\n"
     ]
    }
   ],
   "source": [
    "lista = list(int(num) for num in input(\"Enter the list items separated by space \").strip().split())\n",
    "\n",
    "print(\"User list: \", lista)"
   ]
  },
  {
   "cell_type": "code",
   "execution_count": 2,
   "id": "e1d80779",
   "metadata": {},
   "outputs": [],
   "source": [
    "evenlist = []\n",
    "for i in lista:\n",
    "    if(i%2==0):\n",
    "        evenlist.append(i)"
   ]
  },
  {
   "cell_type": "code",
   "execution_count": 3,
   "id": "d7b4f7f3",
   "metadata": {},
   "outputs": [
    {
     "name": "stdout",
     "output_type": "stream",
     "text": [
      "[2, 4, 6]\n"
     ]
    }
   ],
   "source": [
    "print(evenlist)"
   ]
  }
 ],
 "metadata": {
  "kernelspec": {
   "display_name": "Python 3 (ipykernel)",
   "language": "python",
   "name": "python3"
  },
  "language_info": {
   "codemirror_mode": {
    "name": "ipython",
    "version": 3
   },
   "file_extension": ".py",
   "mimetype": "text/x-python",
   "name": "python",
   "nbconvert_exporter": "python",
   "pygments_lexer": "ipython3",
   "version": "3.8.3"
  }
 },
 "nbformat": 4,
 "nbformat_minor": 5
}
